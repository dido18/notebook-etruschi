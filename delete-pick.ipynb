{
 "cells": [
  {
   "cell_type": "markdown",
   "metadata": {},
   "source": [
    "# Pulizia dati\n",
    "Il seguente programma permette di individuare ed eliminare i momenti di pause tra una traccia e l'altra.\n",
    "Restituisce come risultato gli indici delle tracce.\n"
   ]
  },
  {
   "cell_type": "code",
   "execution_count": 1,
   "metadata": {},
   "outputs": [],
   "source": [
    "# impor the pandas library to read csv file and \n",
    "import pandas as pd # data processing, CSV file I/O (e.g. pd.read_csv)\n",
    "import numpy as np"
   ]
  },
  {
   "cell_type": "code",
   "execution_count": 35,
   "metadata": {},
   "outputs": [
    {
     "name": "stdout",
     "output_type": "stream",
     "text": [
      "                 B1x[nT]   B1y[nT]  B1z[nT]   B2x[nT]   B2y[nT]  B2z[nT]  \\\n",
      "Timestamp [ms]                                                             \n",
      "0               26019.71 -35822.08 -8894.09  25921.18 -35598.18 -9799.92   \n",
      "5               26034.58 -35836.68 -8863.05  25935.08 -35614.06 -9764.60   \n",
      "\n",
      "                AccX[g]  AccY[g]  AccZ[g]  Temp[Deg]  \\\n",
      "Timestamp [ms]                                         \n",
      "0                -0.925    0.105   -0.177       35.0   \n",
      "5                -0.941    0.103   -0.171       35.0   \n",
      "\n",
      "                Latitude[DecimalDegrees]  Longitude[DecimalDegrees]  \\\n",
      "Timestamp [ms]                                                        \n",
      "0                                    0.0                        0.0   \n",
      "5                                    0.0                        0.0   \n",
      "\n",
      "                Altitude[m]  Satellites  Quality  GPSTime  Unnamed:17  \n",
      "Timestamp [ms]                                                         \n",
      "0                       0.0           0        0      0.0         NaN  \n",
      "5                       0.0           0        0      0.0         NaN  \n"
     ]
    }
   ],
   "source": [
    "# Input data files are available in the \"../input/\" directory.\n",
    "# For example, running this (by clicking run or pressing Shift+Enter) will list the files in the input directory\n",
    "\n",
    "file = \"20200805_075428_MWALK_#0001.csv\"\n",
    "#file = \"20200805_084714_MWALK_#0001.csv\"\n",
    "\n",
    "data = pd.read_csv(\"./input/{}\".format(file), \n",
    "                      sep=';',      # define the column separator as \";\" instead of ,\n",
    "                      skiprows=21,  # skip the first 21 row\n",
    "                      header=0,     # define the header where the column names are defined \n",
    "                      index_col=0   # set the timestamp as the row identifier\n",
    "                 )\n",
    "# delete the space in the column name. e.g. From \" B1x[nT]\" to \"B1x[nT]\"\n",
    "data.columns = data.columns.str.replace(' ', '')\n",
    "\n",
    "# print first 4 row in the dataset\n",
    "print(data.head(2))\n",
    "\n",
    "# print only the column  accx[g]\n",
    "raw = data['AccX[g]']\n"
   ]
  },
  {
   "cell_type": "markdown",
   "metadata": {},
   "source": [
    "## Functions to search stops \n",
    "There are two functions:\n",
    " - *find_all_little_stops*: find the little stops by searching a stopWalk pattern followed by a starWalk pattern\n",
    " - *obtain_big_stop_from_little_stops*: return the indexes of the big stop (two consecutive little stops("
   ]
  },
  {
   "cell_type": "code",
   "execution_count": 36,
   "metadata": {},
   "outputs": [],
   "source": [
    "NUM_ZEROS_PATTERN = 400 #125\n",
    "# tif the accelartion is between this two limit is considered 0 accelaration => no walk.\n",
    "UPPER_LIMIT_NO_ACCEL = -0.93\n",
    "LOWER_LIMIT_NO_ACCEL = -1.07\n",
    "\n",
    "# Convert the array of accellation into an array of boolean, \n",
    "# where True indentify no walk (acc in the range of no accel), False means Yes walk.\n",
    "def _from_acc_to_bool(dataAcc, lowerAccLimit=LOWER_LIMIT_NO_ACCEL, upperAccLimit=UPPER_LIMIT_NO_ACCEL):    \n",
    "    # between this range, the accelaration is as no accelaration\n",
    "    # Convert into an array that contains only True (is not walking) and False (is walking)\n",
    "    # noWalking contains True if there is no acceleration (not walking) False otherwise\n",
    "    noWalking = dataAcc.between(lowerAccLimit, upperAccLimit)\n",
    "    \n",
    "    if len(noWalking) != len(dataAcc):\n",
    "        raise(\"ERROR; no equal length\")\n",
    "    \n",
    "    # transform the array of boolean into an array of string 1 and 0, \n",
    "    noWalking = pd.Series(data=[0 if x == True else 1 for x in noWalking], index=noWalking.index)    \n",
    "    return  noWalking\n",
    "\n",
    "def find_all_little_stops(dataAcc, \n",
    "                        stopWalkPattern=\"1\" + ''.join(\"0\" for i in range(NUM_ZEROS_PATTERN)),\n",
    "                        startWalkPattern=''.join(\"0\" for i in range(NUM_ZEROS_PATTERN)) + \"1\"):\n",
    "    \n",
    "    \n",
    "    dataAccWithZeroOne =  _from_acc_to_bool(dataAcc)\n",
    "    # All the little stops are found by searching a specific pattern in the sequence of zero an ones.\n",
    "    # A single stop is a seuqence of a stopWalk pattern followed by a startWalk pattern. \n",
    "    #     1 00000000: (stop walking pattern): a sequence of type  1 000...000     \n",
    "    #     00000000 1: (start walking pattern): a sequence of type   000....0000 1 \n",
    "    \n",
    "    import re\n",
    "    # Obtain a string of zeros and ones\n",
    "    noWalkingString = dataAccWithZeroOne.astype(str).str.cat()\n",
    "    \n",
    "    # Create a list of indexes where occurs a stopWalk pattern\n",
    "    stopWalkinIndexes = []\n",
    "    for match in re.finditer(stopWalkPattern, noWalkingString):\n",
    "        s = match.start() \n",
    "        e = match.end()\n",
    "        start = s + 1  # add 1 beacause the pattern is 10000 but the stop init with the first 0\n",
    "        # from the index of the string to the index in the dataframe\n",
    "        idx = dataAcc.index[start]\n",
    "        stopWalkinIndexes.append(idx)\n",
    "\n",
    "    # Create a list of indexes where occurs a startWalk pattern\n",
    "    startWalkIndexes = []\n",
    "    for match in re.finditer(startWalkPattern, noWalkingString):\n",
    "        s = match.start()\n",
    "        e = match.end()\n",
    "        end =  e -1\n",
    "        idx = dataAcc.index[end]\n",
    "        startWalkIndexes.append(idx)\n",
    "        \n",
    "    if len(startWalkIndexes) != len(stopWalkinIndexes):\n",
    "            raise Exception(\"Impossible to find little stops. # stopwalk:{} and # startwalk:{}.\".format(len(stopWalkinIndexes), len(startWalkIndexes)))\n",
    "\n",
    "    # TODO: check that the two list are of the same length\n",
    "    # Build the list of all the little stops found by zipping the stap and start indexes. \n",
    "    # E.g. zip([0,2][1,3]) = [(0,1)(2,3)]\n",
    "    littleStops = list(zip(stopWalkinIndexes, startWalkIndexes))\n",
    "  \n",
    "    return littleStops\n",
    "\n",
    "def obtain_big_stop_from_little_stops(lstops):\n",
    "    # if there are an odd number of littleSteps, there is something wrong...\n",
    "    if len(lstops) % 2 != 0:\n",
    "        raise Exception(\"Impossibe to obtain big stop. There are an odd number of little stops\")\n",
    "        \n",
    "    bigStops = [] # list of tuple. Each tuple contains the big stop indexes (start, stop).\n",
    "   \n",
    "    # obtain all the big stop, by joining the couple of little stops\n",
    "    # E.g. from two little stops (0,1)(2,3) (4,5)(6,7) to  big stops (0,3), (4,7)\n",
    " \n",
    "    for i in range(0, len(lstops), 2):\n",
    "        if i < len(lstops):\n",
    "            first = lstops[i]\n",
    "            start = first[0]    # take the start of the first little stop\n",
    "            if i + 1 < len(lstops):\n",
    "                second = lstops[i+1]\n",
    "                stop = second[1]   # take the end of the second little stop\n",
    "            else:\n",
    "                stop = first[0] \n",
    "            bigStops.append((start, stop))\n",
    "    return bigStops\n"
   ]
  },
  {
   "cell_type": "code",
   "execution_count": 41,
   "metadata": {},
   "outputs": [
    {
     "name": "stdout",
     "output_type": "stream",
     "text": [
      "Number of big stops: 9\n"
     ]
    },
    {
     "data": {
      "image/png": "[encoded data removed]",
      "text/plain": [
       "<Figure size 432x288 with 1 Axes>"
      ]
     },
     "metadata": {
      "needs_background": "light"
     },
     "output_type": "display_data"
    }
   ],
   "source": [
    "import matplotlib.pyplot as plt\n",
    "plt.close('all')\n",
    " \n",
    "\n",
    "acc = data['AccX[g]']\n",
    "\n",
    "from_row = 12000\n",
    "to_row = len(acc)-2000\n",
    "\n",
    "acc = acc[from_row:to_row]\n",
    "acc.plot()\n",
    "\n",
    "littleStops = find_all_little_stops(acc)\n",
    "\n",
    "#print all little stops\n",
    "for ls in littleStops:\n",
    "    t =acc.loc[ls[0]:ls[1]]\n",
    "    #t.plot()\n",
    "\n",
    "bigStops = obtain_big_stop_from_little_stops(littleStops)\n",
    "\n",
    "print(\"Number of big stops:\", len(bigStops))\n",
    "#for bs in bigStops:\n",
    "#    t =acc.loc[bs[0]:bs[1]]\n",
    "#    t.plot()\n",
    "\n",
    "walks = []\n",
    "# save into output folder\n",
    "for i, (init, end) in enumerate(bigStops):\n",
    "    if i == 0:\n",
    "        walks.append((from_row, init))\n",
    "    else:\n",
    "        prv = bigStops[i-1]\n",
    "        walks.append((prv[1], init))\n",
    "\n",
    "# plot big steps\n",
    "for i, (init, end) in enumerate(walks):\n",
    "    t = acc.loc[init:end]\n",
    "    t.plot()\n",
    "    \n",
    "# save into csv\n",
    "for i, (init, end) in enumerate(walks):\n",
    "    t =data.loc[init:end]\n",
    "    t.to_csv('./output/{}_{}.csv'.format(file, i))\n"
   ]
  }
 ],
 "metadata": {
  "kernelspec": {
   "display_name": "Python 3",
   "language": "python",
   "name": "python3"
  },
  "language_info": {
   "codemirror_mode": {
    "name": "ipython",
    "version": 3
   },
   "file_extension": ".py",
   "mimetype": "text/x-python",
   "name": "python",
   "nbconvert_exporter": "python",
   "pygments_lexer": "ipython3",
   "version": "3.6.9"
  }
 },
 "nbformat": 4,
 "nbformat_minor": 4
}
